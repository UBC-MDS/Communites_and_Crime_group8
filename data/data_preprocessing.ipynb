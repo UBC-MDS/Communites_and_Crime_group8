{
 "cells": [
  {
   "cell_type": "code",
   "execution_count": 1,
   "metadata": {},
   "outputs": [],
   "source": [
    "#imports\n",
    "from geopy.geocoders import Nominatim\n",
    "import pandas as pd\n",
    "import re"
   ]
  },
  {
   "cell_type": "code",
   "execution_count": 2,
   "metadata": {},
   "outputs": [
    {
     "name": "stdout",
     "output_type": "stream",
     "text": [
      "Latitude: 34.0537585\n",
      "Longitude: -116.59672363338927\n"
     ]
    }
   ],
   "source": [
    "geolocator = Nominatim(user_agent=\"get_location\")\n",
    "\n",
    "location = \"Morongo Valley\"\n",
    "location = geolocator.geocode(location)\n",
    "latitude = location.latitude\n",
    "longitude = location.longitude\n",
    "\n",
    "print(\"Latitude:\", latitude)\n",
    "print(\"Longitude:\", longitude)"
   ]
  },
  {
   "cell_type": "code",
   "execution_count": 3,
   "metadata": {},
   "outputs": [],
   "source": [
    "def get_coordinate(query: str):\n",
    "    \"\"\"\n",
    "    Get the latitude and longitude from an input query string\n",
    "    \"\"\"\n",
    "    geolocator = Nominatim(user_agent=\"get_location\")\n",
    " \n",
    "    location = geolocator.geocode(query)\n",
    "    if location is not None:\n",
    "        latitude = location.latitude\n",
    "        longitude = location.longitude\n",
    "        return latitude, longitude\n",
    "    else:\n",
    "        return None\n",
    "\n",
    "def partition_by_caps(input):\n",
    "    parts = re.findall('[A-Z][^A-Z]*', input)\n",
    "    return parts"
   ]
  },
  {
   "cell_type": "code",
   "execution_count": 4,
   "metadata": {},
   "outputs": [],
   "source": [
    "# Extract variable name\n",
    "file = open(\"communities.names\") \n",
    "content = file.readlines()\n",
    "variables_initial = content[75:203]\n",
    "pat1 = r'\\snumeric$'\n",
    "pat2 = r'^@attribute\\s'\n",
    "pat3 = r'\\sstring$'\n",
    "combined_pat = r'|'.join((pat1, pat2, pat3))\n",
    "variables = [re.sub(combined_pat, '', name.strip()) for name in variables_initial]"
   ]
  },
  {
   "cell_type": "code",
   "execution_count": 5,
   "metadata": {},
   "outputs": [],
   "source": [
    "df = pd.read_csv('communities_no_title.csv', index_col=None, header=None)\n",
    "df.columns = variables\n",
    "df.to_csv('communities_with_title.csv', index=False)"
   ]
  },
  {
   "cell_type": "code",
   "execution_count": 6,
   "metadata": {},
   "outputs": [
    {
     "data": {
      "text/plain": [
       "1655    TwentyninePalms-MorongoValle\n",
       "Name: communityname, dtype: object"
      ]
     },
     "execution_count": 6,
     "metadata": {},
     "output_type": "execute_result"
    }
   ],
   "source": [
    "df[df['communityname'].str[-4:]=='alle']['communityname']"
   ]
  },
  {
   "cell_type": "code",
   "execution_count": 7,
   "metadata": {},
   "outputs": [
    {
     "data": {
      "text/plain": [
       "'Pennsylvania'"
      ]
     },
     "execution_count": 7,
     "metadata": {},
     "output_type": "execute_result"
    }
   ],
   "source": [
    "sep = '\\s*,\\s*'\n",
    "\n",
    "# Read CSV file using custom separator\n",
    "state_code_df = pd.read_csv('us-state-code.csv', sep=sep, engine='python')\n",
    "def get_state_name(code:int):\n",
    "    return state_code_df.query('st=='+str(code))['stname'].to_string(index=False)\n",
    "\n",
    "get_state_name(42)"
   ]
  },
  {
   "cell_type": "code",
   "execution_count": 8,
   "metadata": {},
   "outputs": [],
   "source": [
    "df['state_name'] = df['state'].apply(get_state_name)"
   ]
  },
  {
   "cell_type": "code",
   "execution_count": 9,
   "metadata": {},
   "outputs": [],
   "source": [
    "types = ['city', 'township', 'town', 'borough', 'village', 'division', 'district', 'Valle']\n",
    "city_lst = df['communityname'].apply(partition_by_caps).to_list()\n",
    "\n",
    "type_list = []\n",
    "for city in city_lst:\n",
    "    for t in types:\n",
    "        if t in city[-1]:\n",
    "            city[-1] = city[-1].removesuffix(t)\n",
    "            type_list.append(t)\n",
    "            removed = True\n",
    "            break\n",
    "        \n",
    "\n",
    "\n",
    "    \n",
    "df['type'] = type_list\n",
    "df['city'] = city_lst"
   ]
  },
  {
   "cell_type": "code",
   "execution_count": 10,
   "metadata": {},
   "outputs": [],
   "source": [
    "query_strs = []\n",
    "\n",
    "for i in range(len(df['type'])):\n",
    "    query_msg = ''\n",
    "    for name in df['city'][i]:\n",
    "        query_msg += name + ' '\n",
    "    query_msg = query_msg[:-1]\n",
    "    query_msg += ', '+df['state_name'][i]\n",
    "    \n",
    "    query_strs.append(query_msg)"
   ]
  },
  {
   "cell_type": "code",
   "execution_count": 11,
   "metadata": {},
   "outputs": [],
   "source": [
    "# # this will take ~ 20 min\n",
    "# latitudes = []\n",
    "# longitudes = []\n",
    "# for i in range(len(df['type'])):\n",
    "#     try:\n",
    "#         coor = get_coordinate(query_strs[i])\n",
    "#         if coor is not None:\n",
    "#             latitudes.append(coor[0])\n",
    "#             longitudes.append(coor[1])\n",
    "#         else:\n",
    "#             latitudes.append(None)\n",
    "#             longitudes.append(None)\n",
    "#     except:\n",
    "#         latitudes.append(None)\n",
    "#         longitudes.append(None)"
   ]
  },
  {
   "cell_type": "code",
   "execution_count": 12,
   "metadata": {},
   "outputs": [],
   "source": [
    "# pd.DataFrame({'latitude':latitudes,'longitude':longitudes}).to_csv('coordinates.csv')"
   ]
  },
  {
   "cell_type": "code",
   "execution_count": 13,
   "metadata": {},
   "outputs": [],
   "source": [
    "# pd.read_csv('coordinates.csv')[['latitude', 'longitude']].to_csv('coordinates.csv')"
   ]
  },
  {
   "cell_type": "code",
   "execution_count": 14,
   "metadata": {},
   "outputs": [],
   "source": [
    "coor = pd.read_csv('coordinates.csv')"
   ]
  },
  {
   "cell_type": "code",
   "execution_count": 15,
   "metadata": {},
   "outputs": [
    {
     "data": {
      "text/plain": [
       "Unnamed: 0     0\n",
       "latitude      12\n",
       "longitude     12\n",
       "dtype: int64"
      ]
     },
     "execution_count": 15,
     "metadata": {},
     "output_type": "execute_result"
    }
   ],
   "source": [
    "coor.isna().sum()"
   ]
  },
  {
   "cell_type": "code",
   "execution_count": 16,
   "metadata": {},
   "outputs": [],
   "source": [
    "df['latitude'] = coor['latitude']\n",
    "df['longitude'] = coor['longitude']"
   ]
  },
  {
   "cell_type": "code",
   "execution_count": 17,
   "metadata": {},
   "outputs": [],
   "source": [
    "cities = []\n",
    "for i in range(len(df['city'])):\n",
    "    city_str = ''\n",
    "    for name in df['city'][i]:\n",
    "        city_str += name + ' '\n",
    "    city_str = city_str[:-1]\n",
    "    \n",
    "    cities.append(city_str)\n",
    "df['city_name'] = cities"
   ]
  },
  {
   "cell_type": "code",
   "execution_count": 18,
   "metadata": {},
   "outputs": [],
   "source": [
    "df = df.drop(columns=['state', 'county', 'community', 'city', 'communityname'], axis=1)\n",
    "df = df.rename(columns={'ViolentCrimesPerPop': 'violent_crime_rate',\n",
    "                       'state_name': 'state',\n",
    "                       'city_name': 'area'})\n",
    "\n",
    "\n",
    "first_cols = ['area','type','state', 'latitude', 'longitude']\n",
    "last_cols = [col for col in df.columns if col not in first_cols]\n",
    "\n",
    "df = df[first_cols+last_cols]"
   ]
  },
  {
   "cell_type": "code",
   "execution_count": 19,
   "metadata": {},
   "outputs": [],
   "source": [
    "df.loc[224, 'area'] = \"Fond Du Lac\"\n",
    "df.loc[707, 'area'] = \"McAlester\"\n",
    "df.loc[791, 'area'] = \"LaGrange\"\n",
    "df.loc[1130, 'area'] = \"Eatontown\"\n",
    "df.loc[1194, 'area'] = \"Middletown\"\n",
    "df.loc[1208, 'area'] = \"City of Orange\"\n",
    "df.loc[1384, 'area'] = \"Eatontown\"\n",
    "df.loc[1485, 'area'] = \"Germantown\"\n",
    "df.loc[1655, 'area'] = \"Twentynine Palms\"\n",
    "df.loc[1831, 'area'] = \"DeLand\""
   ]
  },
  {
   "cell_type": "code",
   "execution_count": 20,
   "metadata": {},
   "outputs": [],
   "source": [
    "df.loc[224, 'latitude'] = geolocator.geocode(\"Fond Du Lac, Wisconsin\").latitude\n",
    "df.loc[224, 'longitude'] = geolocator.geocode(\"Fond Du Lac, Wisconsin\").longitude\n",
    "\n",
    "df.loc[707, 'latitude'] = geolocator.geocode(\"McAlester, Oklahoma\").latitude\n",
    "df.loc[707, 'longitude'] = geolocator.geocode(\"McAlester, Oklahoma\").longitude\n",
    "\n",
    "df.loc[791, 'latitude'] = geolocator.geocode(\"LaGrange, Georgia\").latitude\n",
    "df.loc[791, 'longitude'] = geolocator.geocode(\"LaGrange, Georgia\").longitude\n",
    "\n",
    "df.loc[1060, 'latitude'] = geolocator.geocode(\"San Jose, CA\").latitude\n",
    "df.loc[1060, 'longitude'] = geolocator.geocode(\"San Jose, CA\").longitude\n",
    "\n",
    "df.loc[1130, 'latitude'] = geolocator.geocode(\"Eatontown, New Jersey\").latitude\n",
    "df.loc[1130, 'longitude'] = geolocator.geocode(\"Eatontown, New Jersey\").longitude\n",
    "\n",
    "df.loc[1194, 'latitude'] = geolocator.geocode(\"Middletown, New Jersey\").latitude\n",
    "df.loc[1194, 'longitude'] = geolocator.geocode(\"Middletown, New Jersey\").longitude\n",
    "\n",
    "df.loc[1208, 'latitude'] = geolocator.geocode(\"City of Orange, New Jersey\").latitude\n",
    "df.loc[1208, 'longitude'] = geolocator.geocode(\"City of Orange, New Jersey\").longitude\n",
    "\n",
    "df.loc[1384, 'latitude'] = geolocator.geocode(\"La Palma, California\").latitude\n",
    "df.loc[1384, 'longitude'] = geolocator.geocode(\"La Palma, California\").longitude\n",
    "\n",
    "df.loc[1485, 'latitude'] = geolocator.geocode(\"Germantown, Wisconsin\").latitude\n",
    "df.loc[1485, 'longitude'] = geolocator.geocode(\"Germantown, Wisconsin\").longitude\n",
    "\n",
    "df.loc[1655, 'latitude'] = geolocator.geocode(\"Twentynine Palms, California\").latitude\n",
    "df.loc[1655, 'longitude'] = geolocator.geocode(\"Twentynine Palms, California\").longitude\n",
    "\n",
    "df.loc[1831, 'latitude'] = geolocator.geocode(\"DeLand, Florida\").latitude\n",
    "df.loc[1831, 'longitude'] = geolocator.geocode(\"DeLand, Florida\").longitude\n",
    "\n",
    "df.loc[1962, 'latitude'] = geolocator.geocode(\"Santa Maria, CA\").latitude\n",
    "df.loc[1962, 'longitude'] = geolocator.geocode(\"Santa Maria, CA\").longitude"
   ]
  },
  {
   "cell_type": "code",
   "execution_count": 22,
   "metadata": {},
   "outputs": [],
   "source": [
    "df.to_csv('processed_communities.csv', index=False)"
   ]
  }
 ],
 "metadata": {
  "kernelspec": {
   "display_name": "Python 3 (ipykernel)",
   "language": "python",
   "name": "python3"
  },
  "language_info": {
   "codemirror_mode": {
    "name": "ipython",
    "version": 3
   },
   "file_extension": ".py",
   "mimetype": "text/x-python",
   "name": "python",
   "nbconvert_exporter": "python",
   "pygments_lexer": "ipython3",
   "version": "3.10.8"
  },
  "vscode": {
   "interpreter": {
    "hash": "fb3255e8c177a1137413fe9062f3de4b862da5af4fbc98ca150dccf9d8cb90c8"
   }
  }
 },
 "nbformat": 4,
 "nbformat_minor": 4
}
