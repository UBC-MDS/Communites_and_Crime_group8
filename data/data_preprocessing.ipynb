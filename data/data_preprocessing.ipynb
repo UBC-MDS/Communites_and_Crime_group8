{
 "cells": [
  {
   "cell_type": "code",
   "execution_count": 1,
   "metadata": {},
   "outputs": [
    {
     "name": "stdout",
     "output_type": "stream",
     "text": [
      "Latitude: 34.0537585\n",
      "Longitude: -116.59672363338927\n"
     ]
    }
   ],
   "source": [
    "from geopy.geocoders import Nominatim\n",
    "geolocator = Nominatim(user_agent=\"get_location\")\n",
    "\n",
    "location = \"Morongo Valley\"\n",
    "location = geolocator.geocode(location)\n",
    "latitude = location.latitude\n",
    "longitude = location.longitude\n",
    "\n",
    "print(\"Latitude:\", latitude)\n",
    "print(\"Longitude:\", longitude)"
   ]
  },
  {
   "cell_type": "code",
   "execution_count": 2,
   "metadata": {},
   "outputs": [],
   "source": [
    "def get_coordinate(query: str):\n",
    "    \"\"\"\n",
    "    Get the latitude and longitude from an input query string\n",
    "    \"\"\"\n",
    "    from geopy.geocoders import Nominatim\n",
    "    geolocator = Nominatim(user_agent=\"get_location\")\n",
    " \n",
    "    location = geolocator.geocode(query)\n",
    "    if location is not None:\n",
    "        latitude = location.latitude\n",
    "        longitude = location.longitude\n",
    "        return latitude, longitude\n",
    "    else:\n",
    "        return None\n",
    "\n",
    "def partition_by_caps(input):\n",
    "    import re\n",
    "    parts = re.findall('[A-Z][^A-Z]*', input)\n",
    "    return parts"
   ]
  },
  {
   "cell_type": "code",
   "execution_count": 3,
   "metadata": {},
   "outputs": [
    {
     "data": {
      "text/plain": [
       "1655    TwentyninePalms-MorongoValle\n",
       "Name: 3, dtype: object"
      ]
     },
     "execution_count": 3,
     "metadata": {},
     "output_type": "execute_result"
    }
   ],
   "source": [
    "import pandas as pd\n",
    "df = pd.read_csv('communities.csv', index_col=None, header=None)\n",
    "types = ['city', 'township', 'town', 'borough', 'village', 'division', 'district', 'Valle']\n",
    "df[df[3].str[-4:]=='alle'][3]"
   ]
  },
  {
   "cell_type": "code",
   "execution_count": 4,
   "metadata": {},
   "outputs": [
    {
     "data": {
      "text/plain": [
       "'Pennsylvania'"
      ]
     },
     "execution_count": 4,
     "metadata": {},
     "output_type": "execute_result"
    }
   ],
   "source": [
    "sep = '\\s*,\\s*'\n",
    "\n",
    "# Read CSV file using custom separator\n",
    "state_code_df = pd.read_csv('us-state-code.csv', sep=sep, engine='python')\n",
    "def get_state_name(code:int):\n",
    "    return state_code_df.query('st=='+str(code))['stname'].to_string(index=False)\n",
    "\n",
    "get_state_name(42)"
   ]
  },
  {
   "cell_type": "code",
   "execution_count": 5,
   "metadata": {},
   "outputs": [],
   "source": [
    "df['state_name'] = df[0].apply(get_state_name)"
   ]
  },
  {
   "cell_type": "code",
   "execution_count": 6,
   "metadata": {},
   "outputs": [],
   "source": [
    "city_lst = df[3].apply(partition_by_caps).to_list()"
   ]
  },
  {
   "cell_type": "code",
   "execution_count": 7,
   "metadata": {},
   "outputs": [],
   "source": [
    "type_list = []\n",
    "for city in city_lst:\n",
    "    for t in types:\n",
    "        if t in city[-1]:\n",
    "            city[-1] = city[-1].removesuffix(t)\n",
    "            type_list.append(t)\n",
    "            removed = True\n",
    "            break\n",
    "        \n",
    "\n",
    "\n",
    "    \n",
    "df['type'] = type_list\n",
    "df['city'] = city_lst"
   ]
  },
  {
   "cell_type": "code",
   "execution_count": 8,
   "metadata": {},
   "outputs": [],
   "source": [
    "query_strs = []\n",
    "\n",
    "for i in range(len(df['type'])):\n",
    "    query_msg = ''\n",
    "    for name in df['city'][i]:\n",
    "        query_msg += name + ' '\n",
    "    query_msg = query_msg[:-1]\n",
    "    query_msg += ', '+df['state_name'][i]\n",
    "    \n",
    "    query_strs.append(query_msg)"
   ]
  },
  {
   "cell_type": "code",
   "execution_count": 9,
   "metadata": {},
   "outputs": [],
   "source": [
    "# this will take ~ 20 min\n",
    "latitudes = []\n",
    "longitudes = []\n",
    "for i in range(len(df['type'])):\n",
    "    try:\n",
    "        coor = get_coordinate(query_strs[i])\n",
    "        if coor is not None:\n",
    "            latitudes.append(coor[0])\n",
    "            longitudes.append(coor[1])\n",
    "        else:\n",
    "            latitudes.append(None)\n",
    "            longitudes.append(None)\n",
    "    except:\n",
    "        latitudes.append(None)\n",
    "        longitudes.append(None)"
   ]
  },
  {
   "cell_type": "code",
   "execution_count": null,
   "metadata": {},
   "outputs": [],
   "source": [
    "pd.DataFrame({'latitude':latitudes,'longitude':longitudes}).to_csv('coordinates.csv')"
   ]
  },
  {
   "cell_type": "code",
   "execution_count": null,
   "metadata": {},
   "outputs": [],
   "source": [
    "# pd.read_csv('coordinates.csv')[['latitude', 'longitude']].to_csv('coordinates.csv')"
   ]
  },
  {
   "cell_type": "code",
   "execution_count": null,
   "metadata": {},
   "outputs": [],
   "source": [
    "coor = pd.read_csv('coordinates.csv')"
   ]
  },
  {
   "cell_type": "code",
   "execution_count": null,
   "metadata": {},
   "outputs": [
    {
     "data": {
      "text/plain": [
       "Unnamed: 0     0\n",
       "latitude      12\n",
       "longitude     12\n",
       "dtype: int64"
      ]
     },
     "execution_count": 41,
     "metadata": {},
     "output_type": "execute_result"
    }
   ],
   "source": [
    "coor.isna().sum()"
   ]
  },
  {
   "cell_type": "code",
   "execution_count": null,
   "metadata": {},
   "outputs": [],
   "source": []
  }
 ],
 "metadata": {
  "kernelspec": {
   "display_name": "MDS",
   "language": "python",
   "name": "python3"
  },
  "language_info": {
   "codemirror_mode": {
    "name": "ipython",
    "version": 3
   },
   "file_extension": ".py",
   "mimetype": "text/x-python",
   "name": "python",
   "nbconvert_exporter": "python",
   "pygments_lexer": "ipython3",
   "version": "3.10.9"
  },
  "orig_nbformat": 4,
  "vscode": {
   "interpreter": {
    "hash": "fb3255e8c177a1137413fe9062f3de4b862da5af4fbc98ca150dccf9d8cb90c8"
   }
  }
 },
 "nbformat": 4,
 "nbformat_minor": 2
}
